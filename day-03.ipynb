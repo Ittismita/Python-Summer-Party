{
  "cells": [
    {
      "cell_type": "markdown",
      "metadata": {},
      "source": [
        "# Day 3: Disney Parks Guest Spending Behavior"
      ]
    },
    {
      "cell_type": "markdown",
      "metadata": {},
      "source": [
        "You are a data analyst working with the Disney Parks revenue team to understand nuanced guest spending patterns across different park experiences. The team wants to develop a comprehensive view of visitor purchasing behaviors. Your goal is to uncover meaningful insights that can drive personalized marketing strategies."
      ]
    },
    {
      "cell_type": "code",
      "metadata": {},
      "execution_count": null,
      "outputs": [],
      "source": "import pandas as pd\nimport numpy as np\n\nfct_guest_spending_data = [\n  {\n    \"guest_id\": 1,\n    \"visit_date\": \"2024-07-05\",\n    \"amount_spent\": 50,\n    \"park_experience_type\": \"Attraction\"\n  },\n  {\n    \"guest_id\": 2,\n    \"visit_date\": \"2024-07-06\",\n    \"amount_spent\": 30,\n    \"park_experience_type\": \"Dining\"\n  },\n  {\n    \"guest_id\": 3,\n    \"visit_date\": \"2024-07-10\",\n    \"amount_spent\": 20.5,\n    \"park_experience_type\": \"Retail\"\n  },\n  {\n    \"guest_id\": 4,\n    \"visit_date\": \"2024-07-12\",\n    \"amount_spent\": 40,\n    \"park_experience_type\": \"Entertainment\"\n  },\n  {\n    \"guest_id\": 1,\n    \"visit_date\": \"2024-07-15\",\n    \"amount_spent\": 35,\n    \"park_experience_type\": \"Dining\"\n  },\n  {\n    \"guest_id\": 5,\n    \"visit_date\": \"2024-07-20\",\n    \"amount_spent\": 60,\n    \"park_experience_type\": \"Attraction\"\n  },\n  {\n    \"guest_id\": 6,\n    \"visit_date\": \"2024-07-25\",\n    \"amount_spent\": 25,\n    \"park_experience_type\": \"Retail\"\n  },\n  {\n    \"guest_id\": 1,\n    \"visit_date\": \"2024-08-03\",\n    \"amount_spent\": 55,\n    \"park_experience_type\": \"Attraction\"\n  },\n  {\n    \"guest_id\": 1,\n    \"visit_date\": \"2024-08-15\",\n    \"amount_spent\": 45,\n    \"park_experience_type\": \"Dining\"\n  },\n  {\n    \"guest_id\": 2,\n    \"visit_date\": \"2024-08-05\",\n    \"amount_spent\": 22,\n    \"park_experience_type\": \"Retail\"\n  },\n  {\n    \"guest_id\": 2,\n    \"visit_date\": \"2024-08-20\",\n    \"amount_spent\": 38,\n    \"park_experience_type\": \"Entertainment\"\n  },\n  {\n    \"guest_id\": 7,\n    \"visit_date\": \"2024-08-10\",\n    \"amount_spent\": 15,\n    \"park_experience_type\": \"Character Meet\"\n  },\n  {\n    \"guest_id\": 3,\n    \"visit_date\": \"2024-08-25\",\n    \"amount_spent\": 28,\n    \"park_experience_type\": \"Retail\"\n  },\n  {\n    \"guest_id\": 3,\n    \"visit_date\": \"2024-08-27\",\n    \"amount_spent\": 32,\n    \"park_experience_type\": \"Dining\"\n  },\n  {\n    \"guest_id\": 1,\n    \"visit_date\": \"2024-09-02\",\n    \"amount_spent\": 65,\n    \"park_experience_type\": \"Attraction\"\n  },\n  {\n    \"guest_id\": 8,\n    \"visit_date\": \"2024-09-05\",\n    \"amount_spent\": 50,\n    \"park_experience_type\": \"Retail\"\n  },\n  {\n    \"guest_id\": 9,\n    \"visit_date\": \"2024-09-15\",\n    \"amount_spent\": 40,\n    \"park_experience_type\": \"Dining\"\n  },\n  {\n    \"guest_id\": 10,\n    \"visit_date\": \"2024-09-20\",\n    \"amount_spent\": 70,\n    \"park_experience_type\": \"Entertainment\"\n  },\n  {\n    \"guest_id\": 1,\n    \"visit_date\": \"2024-09-25\",\n    \"amount_spent\": 35,\n    \"park_experience_type\": \"Dining\"\n  },\n  {\n    \"guest_id\": 8,\n    \"visit_date\": \"2024-09-28\",\n    \"amount_spent\": 10,\n    \"park_experience_type\": \"Character Meet\"\n  }\n]\nfct_guest_spending = pd.DataFrame(fct_guest_spending_data)\n"
    },
    {
      "cell_type": "markdown",
      "metadata": {},
      "source": [
        "## Question 1\n\nWhat is the average spending per guest per visit for each park experience type during July 2024? Ensure that park experience types with no recorded transactions are shown with an average spending of 0.0. This analysis helps establish baseline spending differences essential for later segmentation."
      ]
    },
    {
      "cell_type": "code",
      "metadata": {},
      "execution_count": null,
      "outputs": [],
      "source": "# The following tables are loaded as pandas DataFrames with the same names: fct_guest_spending\n# Filtering only July 2024 data \njuly_data=fct_guest_spending[(fct_guest_spending[\"visit_date\"].dt.year==2024) &\n  (fct_guest_spending[\"visit_date\"].dt.month==7)].copy()\n\n#full list of park_experience_type\npet=pd.DataFrame(fct_guest_spending[\"park_experience_type\"].unique(), columns=[\"park_experience_type\"])\n\n#aggregating by park_experience_type\navg_spending_byPET=july_data.groupby(by=[\"park_experience_type\"],  as_index=False)[\"amount_spent\"].mean()\n\n#merging both and filling missing values \nresult=pet.merge(avg_spending_byPET, on=\"park_experience_type\", how=\"left\").fillna(0.0).rename(columns={\"amount_spent\":\"avg_spending_per_guest\"})\n\n\nprint(result)"
    },
    {
      "cell_type": "markdown",
      "metadata": {},
      "source": [
        "## Question 2\n\nFor guests who visited our parks more than once in August 2024, what is the difference in spending between their first and their last visit? This investigation, using sequential analysis, will reveal any shifts in guest spending behavior over multiple visits."
      ]
    },
    {
      "cell_type": "code",
      "metadata": {},
      "execution_count": null,
      "outputs": [],
      "source": "#filtering Aug 2024 data and guests with more than one visits\naug_data=fct_guest_spending[(fct_guest_spending[\"visit_date\"].dt.year==2024) &\n  (fct_guest_spending[\"visit_date\"].dt.month==8)]\naug_data=aug_data[aug_data.groupby(\"guest_id\")[\"guest_id\"].transform('count')>1]\n\n# print(aug_data.groupby(\"guest_id\")[\"guest_id\"].transform('count')>1)# returns booleans\n\n#first visit\nf_v=aug_data.groupby(by=\"guest_id\", as_index=False)[\"visit_date\"].min()\nf_v_data=aug_data.merge(f_v, on=[\"guest_id\",\"visit_date\"], how=\"inner\").rename(columns={\"visit_date\":\"first_visit_date\",\"amount_spent\":\"first_spending\"})\n\n#last visit \nl_v=aug_data.groupby(by=\"guest_id\", as_index=False)[\"visit_date\"].max()\nl_v_data=aug_data.merge(l_v, on=[\"guest_id\",\"visit_date\"], how=\"inner\").rename(columns={\"visit_date\":\"last_visit_date\",\"amount_spent\":\"last_spending\"})\n\n#merging both\nfinal_data=f_v_data.merge(l_v_data, on=\"guest_id\", how=\"left\")\n\nresult_data=final_data[[\"guest_id\", \"first_spending\", \"last_spending\"]]\n\nresult_data[\"diff_in_spending\"]=result_data[\"first_spending\"]-result_data[\"last_spending\"]\n\nresult=result_data[[\"guest_id\",\"diff_in_spending\"]]\nprint(result)"
    },
    {
      "cell_type": "markdown",
      "metadata": {},
      "source": [
        "## Question 3\n\nIn September 2024, how can guests be categorized into distinct spending segments such as Low, Medium, and High based on their total spending? Use the following thresholds for categorization: \n-Low: Includes values from $0 up to, but not including, $50.\n-Medium: Includes values from $50 up to, but not including, $100.\n-High: Includes values from $100 and above. \nExclude guests who did not make any purchases in the period."
      ]
    },
    {
      "cell_type": "code",
      "metadata": {},
      "execution_count": null,
      "outputs": [],
      "source": "#filtering data for sept 2024 and those who have not spent anything\nsept_data=fct_guest_spending[(fct_guest_spending[\"visit_date\"].dt.year==2024)&\n  (fct_guest_spending[\"visit_date\"].dt.month==9)]\n\nsept_data=sept_data[sept_data[\"amount_spent\"]!=0]\n\nsept_data=sept_data.groupby(by=\"guest_id\",as_index=False)[\"amount_spent\"].sum()\n\n#categorizing\nconditions=[(sept_data[\"amount_spent\"]>=0) & (sept_data[\"amount_spent\"]<50),\n             (sept_data[\"amount_spent\"]>=50) & (sept_data[\"amount_spent\"]<100)]\n\ncategory=[\"Low\", \"Medium\"]\n                   \nsept_data[\"category\"]=np.select(conditions,category, default=\"High\")\nprint(sept_data)"
    },
    {
      "cell_type": "markdown",
      "metadata": {},
      "source": [
        "Made with ❤️ by [Interview Master](https://www.interviewmaster.ai)"
      ]
    }
  ],
  "metadata": {
    "kernelspec": {
      "name": "python3",
      "language": "python",
      "display_name": "Python 3"
    },
    "language_info": {
      "name": "python",
      "version": "3",
      "mimetype": "text/x-python",
      "file_extension": ".py"
    }
  },
  "nbformat": 4,
  "nbformat_minor": 5
}